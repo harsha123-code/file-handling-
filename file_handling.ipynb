{
  "nbformat": 4,
  "nbformat_minor": 0,
  "metadata": {
    "colab": {
      "provenance": []
    },
    "kernelspec": {
      "name": "python3",
      "display_name": "Python 3"
    },
    "language_info": {
      "name": "python"
    }
  },
  "cells": [
    {
      "cell_type": "markdown",
      "source": [
        "1.What is the difference between interpreted and compiled languages\n",
        "\n",
        "-->complier - it an complex software which convert the source code into machine understandable code in one go\n",
        "\n",
        "it generates an executable code with an extentions depend upon the machine to machine\n",
        "\n",
        "the code is private,faster excution,fully optimized\n",
        "\n",
        "complied language provide no portability,\n",
        "\n",
        "required extra completion steps\n",
        "\n",
        "one an code is run on windows machine and it will generate an executable code once the executable is generated then it is capable of running the code on any windows machines\n",
        "\n",
        "--> interpreters- it is an software program which convert the source code in to\n",
        "machine code but by line by line on the fly\n",
        "\n",
        "interpreted language are portable bez we are providing sourse code,if the machines has installed an interpreter then it can run the code\n",
        "\n",
        "easy debugging,we can trass the error immediately bez the code the running line by line\n",
        "\n",
        "whenever we want the run of interpreted language we must me interpreter,\n",
        "\n",
        "it is slower,public code\n",
        "\n",
        "we provide the copy of source code to any machine and if the interpreter is installed on that machine then the code will execute\n",
        "\n",
        "it will never generate an executable code\n"
      ],
      "metadata": {
        "id": "sPxmHM07DDUU"
      }
    },
    {
      "cell_type": "markdown",
      "source": [
        ".2 What is exception handling in Python0\n",
        "\n",
        " -->there are two types of error maybe occurred in an program one is syntax error and another is logical error the syntax error is basically occured when the program is not written according to the language grammer but the logical error occured when the code run but does not give the expected result Exception handling is used to deal with runtime errors, allowing the program to respond to unexpected situations without crashing. It catches errors that occur during the execution and handles them gracefully."
      ],
      "metadata": {
        "id": "37Plf7D-DDSE"
      }
    },
    {
      "cell_type": "markdown",
      "source": [
        "9F What is the purpose of the finally block in exception handling\n",
        "\n",
        "->It's used to run code that should execute no matter what happens in the try or except blocks. It's often used for cleanup actions, like closing files or releasing resources, making sure they get done even if an error occurs\n",
        "\n",
        ">\n",
        "\n"
      ],
      "metadata": {
        "id": "6yx0OOKDDDP-"
      }
    },
    {
      "cell_type": "markdown",
      "source": [
        "3PF What is logging in Python\n",
        "\n",
        "Logging in Python means recording events that happen while a program runs, useful for debugging and monitoring. You can log messages of different levels, like info, warning, or error, to track the flow and issues."
      ],
      "metadata": {
        "id": "QgKxs0IpDDNE"
      }
    },
    {
      "cell_type": "markdown",
      "source": [
        "1F What is the significance of the __del__ method in Python\n",
        "\n",
        "The `__del__` method is a destructor in Python, called when an object is about to be destroyed. It allows for cleanup actions, like closing files or network connections\n"
      ],
      "metadata": {
        "id": "wD7rBzkrDDLA"
      }
    },
    {
      "cell_type": "markdown",
      "source": [
        "What is the difference between import and from ... import in Python0\n",
        "\n",
        "both import and from ... import are used to bring external code into your program, but they differ in how much you bring in, When you use import module, you’re including the entire module, and you’ll need to prefix its functions or classes with the module name—this helps keep your code clean and avoids name clashes. On the other hand, from module import something pulls in only specific parts from that module, allowing you to use them directly without the module prefix. This is convenient for commonly used functions but can clutter your namespace if overused. So, import offers better structure, while from ... import gives quicker access. The choice depends on whether you prefer clarity or convenience in your code.\n",
        "\n"
      ],
      "metadata": {
        "id": "f69leRWDDDIx"
      }
    },
    {
      "cell_type": "markdown",
      "source": [
        ")F How can you handle multiple exceptions in Python\n",
        "\n",
        " We use specific except blocks for each error type to provide clear, user-friendly messages. This ensures users get helpful feedback without exposing them to technical details or alarming error messages.\n"
      ],
      "metadata": {
        "id": "20KbR-KHDDGc"
      }
    },
    {
      "cell_type": "markdown",
      "source": [
        "7F What is the purpose of the with statement when handling files in Python0\n",
        "\n",
        "-> with statement is used to read or write a file, and it automatically closes the file when you're done\n"
      ],
      "metadata": {
        "id": "36tY_PzSDDDr"
      }
    },
    {
      "cell_type": "markdown",
      "source": [
        "&F What is the difference between multithreading and multiprocessing\n",
        "\n",
        "Multithreading uses multiple threads within a single process to perform tasks concurrently. It’s best for I/O-bound tasks like file operations or web requests because threads share memory and switch quickly—but Python's GIL limits true parallelism.\n",
        "\n",
        "Multiprocessing runs multiple separate processes with their own memory, making it perfect for CPU-bound tasks like heavy computations. It bypasses the GIL and achieves real parallelism using multiple cores, though communication between processes is slower.\n"
      ],
      "metadata": {
        "id": "206-swokDDBf"
      }
    },
    {
      "cell_type": "markdown",
      "source": [
        "What are the advantages of using logging in a program0\n",
        "\n",
        "Logging in a program helps developers track what’s happening during code execution. It’s useful for debugging, monitoring performance, and identifying issues in real-time or after deployment. Logs can record events, errors, and user actions, making it easier to troubleshoot problems, analyze behavior, and maintain code. It also supports transparency and collaboration, especially in large projects. Let me know if you’d like a simple code snippet to see it in action."
      ],
      "metadata": {
        "id": "gTiapWtIDC-w"
      }
    },
    {
      "cell_type": "markdown",
      "source": [
        " What is memory management in Python0\n",
        "\n",
        " Memory management in Python is automatic and efficient. It uses a private heap to store objects, and the Python memory manager handles allocation and deallocation. Two key techniques are reference counting, which tracks how many references point to an object, and garbage collection, which cleans up unused or circular references. Python also separates memory into stack (for function calls and local variables) and heap (for objects and data structures). This system helps keep your programs running smoothly without manual memory handling.\n"
      ],
      "metadata": {
        "id": "ZaGrgsPdDC8l"
      }
    },
    {
      "cell_type": "markdown",
      "source": [
        "H.F What are the basic steps involved in exception handling in Python\n",
        "\n",
        "The try block holds the code that might cause an error, the except block handles the error, the optional else block runs if there's no error, and the finally block runs no matter\n"
      ],
      "metadata": {
        "id": "hi2JXDn-DC6U"
      }
    },
    {
      "cell_type": "markdown",
      "source": [
        " What is the role of try and except in exception handling\n",
        "\n",
        " The try block  test a code for errors, while the except block  handle the error. This way, your program can continue running even if an error occurs\n"
      ],
      "metadata": {
        "id": "g7Q00GP3DCzH"
      }
    },
    {
      "cell_type": "markdown",
      "source": [
        " How does Python's garbage collection system work\n",
        "\n",
        " python automatically manages memory using reference counting and generational garbage collection. Reference counting tracks how many references point to an object; when it drops to zero, the object is deleted. To handle circular references (when objects refer to each other), Python uses a generational garbage collector. It organizes objects into three age-based groups—Generation 0, 1, and 2—and collects the youngest generation most frequently. This keeps performance efficient and avoids memory leaks. You can also control it manually using the gc module.\n"
      ],
      "metadata": {
        "id": "hyYhBXc6DCwL"
      }
    },
    {
      "cell_type": "markdown",
      "source": [
        "What is the purpose of the else block in exception handling\n",
        "\n",
        "The else block runs if no errors occur in the try block. It's a way to execute code only when everything goes perfect\n"
      ],
      "metadata": {
        "id": "wwYHvX6lDCtI"
      }
    },
    {
      "cell_type": "markdown",
      "source": [
        "What are the common logging levels in Python0\n",
        "\n",
        "n Python, logging levels help you understand what’s going on in your program while it runs. Think of them like different tones of voice your code uses to talk to you:\n",
        "- DEBUG is like whispering all the tiny details—great for developers who want to see everything behind the scenes.\n",
        "- INFO is a calm voice saying, “Hey, everything’s working fine.”\n",
        "- WARNING is your code raising an eyebrow—something’s off, but it’s not breaking anything yet.\n",
        "- ERROR is a louder alert—something went wrong and needs fixing.\n",
        "- CRITICAL is your code shouting, “We’ve got a serious problem!”\n"
      ],
      "metadata": {
        "id": "iT7gBm-oDCqM"
      }
    },
    {
      "cell_type": "markdown",
      "source": [
        "What is the difference between os.fork() and multiprocessing in Python\n",
        "\n",
        "In Python, both os.fork() and the multiprocessing module are used to create new processes, but they differ significantly in how they operate and where they’re best applied. os.fork() is a low-level system call available only on Unix-like systems, such as Linux and macOS. It directly duplicates the current process, creating a child that shares the same memory space initially. This method is fast and lightweight but requires manual handling of communication and synchronization between processes, and it’s not supported on Windows. On the other hand, the multiprocessing module is a high-level abstraction built into Python that works across platforms, including Windows. It simplifies process creation and management by providing built-in tools like Process, Queue, and Pipe, making it easier to share data and coordinate tasks between processes. Internally, multiprocessing may use os.fork() on Unix systems, but it also supports other methods like spawn and forkserver, depending on the operating system. So, while os.fork() offers more control and speed on compatible systems, multiprocessing is more portable, user-friendly, and suitable for complex applications.\n"
      ],
      "metadata": {
        "id": "MwmZ7_tPVNGG"
      }
    },
    {
      "cell_type": "markdown",
      "source": [
        "What is the importance of closing a file in Python\n",
        "\n",
        "Closing a file in Python is important because it ensures that system resources are properly released and that any data written to the file is safely saved. When you open a file, Python interacts with the operating system to allocate a file handle—a limited resource. If you don’t close the file, it may remain locked or occupy memory unnecessarily, which can lead to issues like running out of file handles or preventing other programs from accessing the file.\n",
        "\n"
      ],
      "metadata": {
        "id": "70BKyk2SVM-m"
      }
    },
    {
      "cell_type": "markdown",
      "source": [
        "What is the difference between file.read() and file.readline() in Python\n",
        "\n",
        "`file.read()` reads the entire file, while `file.readline()` reads just one line at a time\n"
      ],
      "metadata": {
        "id": "VgWOPpR9VM23"
      }
    },
    {
      "cell_type": "markdown",
      "source": [
        "What is the logging module in Python used for\n",
        "\n",
        "he logging module in Python is a built-in tool that helps developers track and record events that happen during a program’s execution. Instead of using print() statements, which are limited and hard to manage in larger applications, logging provides a structured and flexible way to capture useful information. It allows you to categorize messages by severity levels such as DEBUG, INFO, WARNING, ERROR, and CRITICAL, making it easier to filter and prioritize what gets recorded. You can also direct these logs to different outputs—like the console, files, or even remote servers—and format them to include timestamps, module names, and other context. This makes debugging, monitoring, and maintaining code much more efficient. The module is also thread-safe and scalable, which means it works well in both simple scripts and complex, multi-threaded applications.\n"
      ],
      "metadata": {
        "id": "kvzcpNgUVMyE"
      }
    },
    {
      "cell_type": "markdown",
      "source": [
        "What is the os module in Python used for in file handling\n",
        "\n",
        "\n",
        "It's mainly for file handling, like checking file sizes, creating or deleting files and directories,it's used for interacting with the operating system, like managing files, directories, and running system"
      ],
      "metadata": {
        "id": "pKv9DptYVMq-"
      }
    },
    {
      "cell_type": "markdown",
      "source": [
        "What are the challenges associated with memory management in Python\n",
        "\n",
        "One major issue is memory leaks, which happen when objects that are no longer needed aren’t properly released. This can occur due to lingering references or circular dependencies that the garbage collector doesn’t catch immediately. Over time, these leaks can slow down your program or even crash it.\n",
        "Another challenge is memory fragmentation. As objects are created and destroyed, memory can become scattered into unusable chunks, reducing efficiency and increasing overhead. This is especially problematic in long-running or real-time applications.\n",
        "Python’s Global Interpreter Lock (GIL) also plays a role. It limits true parallel execution of threads, which can lead to inefficient memory usage in multi-threaded programs.\n",
        "Additionally, large data structures or inefficient algorithms can consume excessive memory, especially if you’re working with big datasets or high-performance tasks. Without careful profiling and optimization, your program might use more memory than necessary.\n",
        "Lastly, while Python abstracts away most of the low-level memory handling, this can lead to less control for developers who need fine-tuned performance. Manual memory management isn’t common in Python, but sometimes it’s needed to avoid bottlenecks.\n",
        "\n",
        "\n"
      ],
      "metadata": {
        "id": "fk03sYWBVMjz"
      }
    },
    {
      "cell_type": "markdown",
      "source": [
        "Why is it important to use multithreading in certain applications?\n",
        "\n",
        "multithreading is important in certain applications because it allows different parts of a program to run concurrently, which leads to better performance, responsiveness, and resource utilization.\n",
        "In interactive applications like web browsers or GUI-based software, multithreading ensures that the user interface remains responsive even while background tasks—like loading images or processing data—are running. For example, one thread can handle user input while another downloads content, so the app doesn’t freeze or lag.\n",
        "It’s also crucial in server-side applications, such as web servers or database systems, where multiple client requests need to be handled simultaneously. Multithreading enables the server to process many requests at once without waiting for one to finish before starting another.\n",
        "Additionally, multithreading helps in maximizing CPU usage, especially on multi-core processors. By distributing tasks across threads, programs can perform computations in parallel, speeding up execution and improving scalability.\n"
      ],
      "metadata": {
        "id": "OF4_uxCYVMce"
      }
    },
    {
      "cell_type": "markdown",
      "source": [
        "How do you raise an exception manually in Python\n",
        "\n",
        "by using the raise keyword, like raise Exception(\"Your error message\"),we raise an exception in a try block, and then handle it in the except block. The else block runs if no exceptions occur, and the finally block runs no matter what\n"
      ],
      "metadata": {
        "id": "ZaQoiEZMVMXT"
      }
    },
    {
      "cell_type": "code",
      "execution_count": null,
      "metadata": {
        "id": "rZXy8vCipuZw"
      },
      "outputs": [],
      "source": [
        "# How can you open a file for writing in Python and write a string to it\n",
        "f=open(\"sample.txt\",'w')\n",
        "f.write(\"hello world\")\n",
        "f.close()"
      ]
    },
    {
      "cell_type": "code",
      "source": [
        "# F How would you handle a case where the file doesn't exist while trying to open it for reading\n",
        "try:\n",
        "   with open('sample1.txt''r') as f:\n",
        "    content=f.read()\n",
        "except FileNotFoundError:\n",
        "    print(\"file not found\")"
      ],
      "metadata": {
        "id": "FtXFQvhWpv26"
      },
      "execution_count": null,
      "outputs": []
    },
    {
      "cell_type": "code",
      "source": [
        "# Write a Python script that reads from one file and writes its content to another file\n",
        "with open('sample.txt','r') as f:\n",
        "    content=f.read()\n",
        "with open('sample1.txt','w') as f:\n",
        "    f.write(content)\n",
        "\n"
      ],
      "metadata": {
        "id": "GmvH8sGKpvzY"
      },
      "execution_count": null,
      "outputs": []
    },
    {
      "cell_type": "code",
      "source": [
        "#How would you catch and handle division by zero error in Python\n",
        "try:\n",
        " num1=int(input(\"enter first number: \"))\n",
        " num2 =int(input(\"enter secand number: \"))\n",
        " result = num1 / num2\n",
        " print(\"Result:\", result)\n",
        "except ZeroDivisionError:\n",
        "    print(\"division by zero error\")\n",
        "except ValueError:\n",
        "    print(\"Invalid input. Please enter integers only.\")"
      ],
      "metadata": {
        "colab": {
          "base_uri": "https://localhost:8080/"
        },
        "id": "FiG66a1CsFOq",
        "outputId": "896f64f9-e5ce-4f1a-926b-6884c1913553"
      },
      "execution_count": 66,
      "outputs": [
        {
          "output_type": "stream",
          "name": "stdout",
          "text": [
            "enter first number: 2\n",
            "enter secand number: 0\n",
            "division by zero error\n"
          ]
        }
      ]
    },
    {
      "cell_type": "code",
      "source": [
        "#Write a Python program that logs an error message to a log file when a division by zero exception occurs\n",
        "\n",
        "import logging\n",
        "\n",
        "\n",
        "logging.basicConfig(filename='error.log', level=logging.ERROR,\n",
        "                    format='%(asctime)s:%(levelname)s:%(message)s')\n",
        "\n",
        "try:\n",
        "    num1 = int(input(\"Enter the first number: \"))\n",
        "    num2 = int(input(\"Enter the second number: \"))\n",
        "    result = num1 / num2\n",
        "    print(\"Result:\", result)\n",
        "except ZeroDivisionError:\n",
        "    error_message = \"Error: Division by zero occurred.\"\n",
        "    print(error_message)\n",
        "    logging.error(error_message)\n",
        "except ValueError:\n",
        "    error_message = \"Invalid input. Please enter integers only.\"\n",
        "    print(error_message)\n",
        "    logging.error(error_message)"
      ],
      "metadata": {
        "colab": {
          "base_uri": "https://localhost:8080/"
        },
        "id": "aesoLkT2pvvp",
        "outputId": "fee3532e-da87-4724-ee27-e576b15653a2"
      },
      "execution_count": 67,
      "outputs": [
        {
          "output_type": "stream",
          "name": "stdout",
          "text": [
            "Enter the first number: 3\n",
            "Enter the second number: 5\n",
            "Result: 0.6\n"
          ]
        }
      ]
    },
    {
      "cell_type": "code",
      "source": [
        "# How do you log information at different levels (INFO, ERROR, WARNING) in Python using the logging module\n",
        "\n",
        "import logging\n",
        "\n",
        "\n",
        "logging.basicConfig(level=logging.DEBUG, format='%(asctime)s - %(levelname)s - %(message)s')\n",
        "\n",
        "\n",
        "logging.debug(\"This is a debug message.\")\n",
        "logging.info(\"This is an informational message.\")\n",
        "logging.warning(\"This is a warning message.\")\n",
        "logging.error(\"This is an error message.\")\n",
        "logging.critical(\"This is a critical message.\")"
      ],
      "metadata": {
        "colab": {
          "base_uri": "https://localhost:8080/"
        },
        "id": "3sdsgYN5pvrz",
        "outputId": "02023a0d-06a0-48c4-bda3-ec0ad2b6944b"
      },
      "execution_count": 81,
      "outputs": [
        {
          "output_type": "stream",
          "name": "stderr",
          "text": [
            "WARNING:root:This is a warning message.\n",
            "ERROR:root:This is an error message.\n",
            "CRITICAL:root:This is a critical message.\n"
          ]
        }
      ]
    },
    {
      "cell_type": "code",
      "source": [
        "#  Write a program to handle a file opening error using exception handling\n",
        "try:\n",
        "   with open('sample1.txt','r') as f:\n",
        "    content=f.read()\n",
        "    print(\"file content: \",content)\n",
        "except FileNotFoundError:\n",
        "    print(\"file not found,please check the path\")\n",
        "except IOError:\n",
        "  print(\"could not read the file, due to I/O issue.\")\n",
        "else:\n",
        "  print(\"file read successfully\")\n",
        "finally:\n",
        "  print(\"operation complete\")"
      ],
      "metadata": {
        "id": "qcRRI8BGpvnh"
      },
      "execution_count": 87,
      "outputs": []
    },
    {
      "cell_type": "code",
      "source": [
        "#F How can you read a file line by line and store its content in a list in Python\n",
        "with open('sample.txt','r') as f:\n",
        "    lines=f.readlines()\n",
        "    print(lines)\n",
        "\n"
      ],
      "metadata": {
        "id": "4mOGZq0IpvjX"
      },
      "execution_count": 88,
      "outputs": []
    },
    {
      "cell_type": "code",
      "source": [
        "# How can you append data to an existing file in Python\n",
        "with open(\"sample.txt\",'a') as f:\n",
        "    f.write(\" how are you\")\n",
        "with open(\"sample.txt\",'r') as f:\n",
        "    content=f.read()\n",
        "    print(content)"
      ],
      "metadata": {
        "id": "OvvF0ZbVzy7v"
      },
      "execution_count": null,
      "outputs": []
    },
    {
      "cell_type": "code",
      "source": [
        "# &&F Write a Python program that uses a try-except block to handle an error when attempting to access a\n",
        " # dictionary key that doesn't exist\n",
        "try:\n",
        "  dict={\"nishant\":'21',\"manish\":'22',\"hima\":'28'}\n",
        "  key=input(\"enter the key: \")\n",
        "  print(dict[key])\n",
        "except KeyError:\n",
        "  print(\"key doesn't exits\")\n",
        "else:\n",
        "  print(\"key found successfully\")\n",
        "finally:\n",
        "  print(\"operation successful\")"
      ],
      "metadata": {
        "id": "_e14a5UWzy49"
      },
      "execution_count": null,
      "outputs": []
    },
    {
      "cell_type": "code",
      "source": [
        "#Write a program that demonstrates using multiple except blocks to handle different types of exceptions\n",
        "try:\n",
        "  num1=int(input(\"enter the first number: \"))\n",
        "  num2=int(input(\"enter the second number: \"))\n",
        "  result=num1/num2\n",
        "  print(\"Result:\", result)\n",
        "except ValueError:\n",
        "  print(\"Invalid input. Please enter integers only.\")\n",
        "except ZeroDivisionError:\n",
        "  print(\"Error: Division by zero is not allowed.\")\n",
        "except Exception as e:\n",
        "  print(\"An unexpected error occurred:\", e)"
      ],
      "metadata": {
        "id": "giyRan_X6nki"
      },
      "execution_count": null,
      "outputs": []
    },
    {
      "cell_type": "code",
      "source": [
        "# How would you check if a file exists before attempting to read it in Python\n",
        "import os\n",
        "file_path = 'sample1.txt'\n",
        "if os.path.exists(file_path):\n",
        "    with open(file_path, 'r') as f:\n",
        "        content = f.read()\n",
        "        print(content)\n",
        "else:\n",
        "    print(f\"The file '{file_path}' does not exist.\")\n"
      ],
      "metadata": {
        "id": "EensXgKB6nR8"
      },
      "execution_count": null,
      "outputs": []
    },
    {
      "cell_type": "code",
      "source": [
        "# Write a program that uses the logging module to log both informational and error messages\n",
        "\n",
        "import logging\n",
        "\n",
        "logging.basicConfig(level=logging.INFO, format='%(asctime)s - %(levelname)s - %(message)s')\n",
        "\n",
        "\n",
        "logging.info(\"This is an informational message.\")\n",
        "\n",
        "\n",
        "try:\n",
        "    result = 10 / 0\n",
        "except ZeroDivisionError:\n",
        "    logging.error(\"An error occurred: Division by zero.\")"
      ],
      "metadata": {
        "colab": {
          "base_uri": "https://localhost:8080/"
        },
        "id": "XqxGMHiZ6nIq",
        "outputId": "a016dc25-6288-49d4-e719-06c3f9761feb"
      },
      "execution_count": 89,
      "outputs": [
        {
          "output_type": "stream",
          "name": "stderr",
          "text": [
            "ERROR:root:An error occurred: Division by zero.\n"
          ]
        }
      ]
    },
    {
      "cell_type": "code",
      "metadata": {
        "id": "59d0b34e"
      },
      "source": [
        "# Write a Python program that prints the content of a file and handles the case when the file is empty\n",
        "try:\n",
        "    with open('sample.txt', 'r') as f:\n",
        "        content = f.read()\n",
        "        if content:\n",
        "            print(\"File content:\")\n",
        "            print(content)\n",
        "        else:\n",
        "            print(\"The file is empty.\")\n",
        "except FileNotFoundError:\n",
        "    print(\"Error: The file was not found.\")"
      ],
      "execution_count": 90,
      "outputs": []
    },
    {
      "cell_type": "code",
      "source": [
        "#  Demonstrate how to use memory profiling to check the memory usage of a small program\n",
        "\n",
        "import logging\n",
        "from logging.handlers import RotatingFileHandler\n",
        "\n",
        "logger = logging.getLogger('my_logger')\n",
        "logger.setLevel(logging.DEBUG)\n",
        "handler = RotatingFileHandler(\n",
        "    'app.log',\n",
        "    maxBytes=1_000_000,\n",
        "    backupCount=5\n",
        ")\n",
        "\n",
        "\n",
        "formatter = logging.Formatter('%(asctime)s - %(levelname)s - %(message)s')\n",
        "handler.setFormatter(formatter)\n",
        "\n",
        "\n",
        "logger.addHandler(handler)\n",
        "logger.debug('Debug message')\n",
        "logger.info('Info message')\n",
        "logger.warning('Warning message')\n",
        "logger.error('Error message')\n",
        "logger.critical('Critical message')"
      ],
      "metadata": {
        "colab": {
          "base_uri": "https://localhost:8080/"
        },
        "id": "NglmpDFV9O3s",
        "outputId": "4e67c895-4590-4817-934c-35250632a353"
      },
      "execution_count": 91,
      "outputs": [
        {
          "output_type": "stream",
          "name": "stderr",
          "text": [
            "DEBUG:my_logger:Debug message\n",
            "INFO:my_logger:Info message\n",
            "WARNING:my_logger:Warning message\n",
            "ERROR:my_logger:Error message\n",
            "CRITICAL:my_logger:Critical message\n"
          ]
        }
      ]
    },
    {
      "cell_type": "code",
      "source": [
        "#  Write a Python program to create and write a list of numbers to a file, one number per line\n",
        "my_numbers = [1, 2, 3, 4, 5, 6, 7, 8, 9, 10]\n",
        "with open('numbers.txt','w') as f:\n",
        "  for number in my_numbers:\n",
        "    f.write(str(number)+'\\n')\n",
        "\n",
        "\n",
        "with open('numbers.txt', 'r') as f:\n",
        "  content = f.read()\n",
        "  print(\"File content:\")\n",
        "  print(content)"
      ],
      "metadata": {
        "id": "LKcpiBZp9OzY"
      },
      "execution_count": 92,
      "outputs": []
    },
    {
      "cell_type": "code",
      "source": [
        "# How would you implement a basic logging setup that logs to a file with rotation after 1MB\n",
        "\n"
      ],
      "metadata": {
        "id": "PWHQrJJ89Oud"
      },
      "execution_count": null,
      "outputs": []
    },
    {
      "cell_type": "code",
      "source": [
        "#Write a program that handles both IndexError and KeyError using a try-except block\n",
        "\n",
        "try:\n",
        "  dict1={\"rita\":'1',\"rooma\":'2',\"suhani\":'3'}\n",
        "  key=input(\"enter the key: \")\n",
        "  print(dict1[key])\n",
        "except KeyError:\n",
        "  print(\"invalid key\")\n",
        "except IndexError:\n",
        "  print(\"index not found\")\n",
        "else:\n",
        "  print(\"operation successful\")\n",
        "finally:\n",
        "  print(\"operation complete\")\n",
        "\n",
        "\n"
      ],
      "metadata": {
        "colab": {
          "base_uri": "https://localhost:8080/"
        },
        "id": "Sk9nF86N9Opv",
        "outputId": "24b89209-6106-406a-f608-a7f27f630797"
      },
      "execution_count": 93,
      "outputs": [
        {
          "name": "stdout",
          "output_type": "stream",
          "text": [
            "enter the key: 4\n"
          ]
        }
      ]
    },
    {
      "cell_type": "code",
      "source": [
        "#  How would you open a file and read its contents using a context manager in Python\n",
        "with open('sample.txt','r') as f:\n",
        "  content=f.read()\n",
        "  print(content)"
      ],
      "metadata": {
        "id": "k80xZ8h6_w0k"
      },
      "execution_count": 94,
      "outputs": []
    },
    {
      "cell_type": "code",
      "source": [
        "# Write a Python program that reads a file and prints the number of occurrences of a specific word\n",
        "with open(\"text.txt\",'w') as f:\n",
        "  f.write(\"The big, big dog ran very, very fast down the road\")\n",
        "with open(\"text.txt\",'r') as f:\n",
        "  content=f.read()\n",
        "  word=input(\"enter the word: \")\n",
        "  count=content.count(word)\n",
        "  print(f\"the word '{word}' occurs {count} times in the file\")\n"
      ],
      "metadata": {
        "id": "QOqLulvC_wwK"
      },
      "execution_count": null,
      "outputs": []
    },
    {
      "cell_type": "code",
      "metadata": {
        "id": "9ab5a555"
      },
      "source": [
        "import os\n",
        "\n",
        "file_path = 'text.txt'\n",
        "if os.path.exists(file_path):\n",
        "    if os.path.getsize(file_path) > 0:\n",
        "        print(f\"The file '{file_path}' is not empty.\")\n",
        "        with open(file_path, 'r') as f:\n",
        "            content = f.read()\n",
        "            print(content)\n",
        "    else:\n",
        "        print(f\"The file '{file_path}' is empty.\")\n",
        "else:\n",
        "    print(f\"The file '{file_path}' does not exist.\")"
      ],
      "execution_count": null,
      "outputs": []
    },
    {
      "cell_type": "code",
      "source": [
        "# Write a Python program that writes to a log file when an error occurs during file handling.\n",
        "\n",
        "import logging\n",
        "\n",
        "\n",
        "logging.basicConfig(\n",
        "    filename='file_errors.log',\n",
        "    level=logging.ERROR,\n",
        "    format='%(asctime)s - %(levelname)s - %(message)s'\n",
        ")\n",
        "\n",
        "\n",
        "try:\n",
        "    with open('non_existent_file.txt', 'r') as file:\n",
        "        content = file.read()\n",
        "        print(content)\n",
        "except FileNotFoundError as e:\n",
        "    logging.error(f\"File not found: {e}\")\n",
        "    print(\"Oops! The file you're trying to read doesn't exist.\")\n",
        "except Exception as e:\n",
        "    logging.error(f\"An unexpected error occurred: {e}\")\n",
        "    print(\"Something went wrong while handling the file.\")"
      ],
      "metadata": {
        "colab": {
          "base_uri": "https://localhost:8080/"
        },
        "id": "wcnI-mGdCJRh",
        "outputId": "790475b1-b673-4a51-c3f9-7f367af17de9"
      },
      "execution_count": 95,
      "outputs": [
        {
          "output_type": "stream",
          "name": "stderr",
          "text": [
            "ERROR:root:File not found: [Errno 2] No such file or directory: 'non_existent_file.txt'\n"
          ]
        }
      ]
    }
  ]
}